{
 "cells": [
  {
   "cell_type": "code",
   "execution_count": 16,
   "metadata": {},
   "outputs": [],
   "source": [
    "# Import necessary modules\n",
    "import os\n",
    "\n",
    "# Define the output file name\n",
    "output_file = \"combined.txt\"\n",
    "\n",
    "# Get user input for exclusion keywords\n",
    "exclusion_keywords = input(\n",
    "    \"Enter comma-separated keywords for files to exclude (e.g., combinator): \"\n",
    ").split(\",\")\n",
    "# Open the output file in write mode\n",
    "with open(output_file, \"w\") as out:\n",
    "    # Loop through the current directory and all subdirectories\n",
    "    for root, dirs, files in os.walk(\".\"):\n",
    "        # Loop through each file in the current directory\n",
    "        for file in files:\n",
    "            # Check if filename contains any exclusion keywords\n",
    "            skip_file = any(keyword in file for keyword in exclusion_keywords)\n",
    "\n",
    "            # Skip the file if it contains an exclusion keyword\n",
    "            if skip_file:\n",
    "                continue\n",
    "\n",
    "            # Get the file path relative to the current directory\n",
    "            file_path = os.path.join(root, file)\n",
    "\n",
    "            # Write the file location and extension to the output file\n",
    "            out.write(f\"{file_path}:\\n\")\n",
    "            out.write(\"```\\n\")\n",
    "\n",
    "            # Open the file in read mode\n",
    "            with open(file_path, \"r\") as f:\n",
    "                # Read the file content\n",
    "                content = f.read()\n",
    "\n",
    "                # Write the file content to the output file\n",
    "                out.write(content)\n",
    "\n",
    "            out.write(\"```\\n\")\n",
    "\n",
    "            # Write the separator line after the content\n",
    "            out.write(\"--------------------------\\n\")\n",
    "            out.write(\"\\n\")  # Add an additional blank line for better separation\n"
   ]
  }
 ],
 "metadata": {
  "kernelspec": {
   "display_name": "base",
   "language": "python",
   "name": "python3"
  },
  "language_info": {
   "codemirror_mode": {
    "name": "ipython",
    "version": 3
   },
   "file_extension": ".py",
   "mimetype": "text/x-python",
   "name": "python",
   "nbconvert_exporter": "python",
   "pygments_lexer": "ipython3",
   "version": "3.11.5"
  }
 },
 "nbformat": 4,
 "nbformat_minor": 2
}
