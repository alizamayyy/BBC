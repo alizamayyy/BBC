{
 "cells": [
  {
   "cell_type": "code",
   "execution_count": 2,
   "metadata": {},
   "outputs": [
    {
     "ename": "UnicodeDecodeError",
     "evalue": "'utf-8' codec can't decode byte 0xa7 in position 0: invalid start byte",
     "output_type": "error",
     "traceback": [
      "\u001b[1;31m---------------------------------------------------------------------------\u001b[0m",
      "\u001b[1;31mUnicodeDecodeError\u001b[0m                        Traceback (most recent call last)",
      "Cell \u001b[1;32mIn[2], line 35\u001b[0m\n\u001b[0;32m     32\u001b[0m \u001b[38;5;66;03m# Open the file in read mode\u001b[39;00m\n\u001b[0;32m     33\u001b[0m \u001b[38;5;28;01mwith\u001b[39;00m \u001b[38;5;28mopen\u001b[39m(file_path, \u001b[38;5;124m\"\u001b[39m\u001b[38;5;124mr\u001b[39m\u001b[38;5;124m\"\u001b[39m) \u001b[38;5;28;01mas\u001b[39;00m f:\n\u001b[0;32m     34\u001b[0m     \u001b[38;5;66;03m# Read the file content\u001b[39;00m\n\u001b[1;32m---> 35\u001b[0m     content \u001b[38;5;241m=\u001b[39m f\u001b[38;5;241m.\u001b[39mread()\n\u001b[0;32m     37\u001b[0m     \u001b[38;5;66;03m# Write the file content to the output file\u001b[39;00m\n\u001b[0;32m     38\u001b[0m     out\u001b[38;5;241m.\u001b[39mwrite(content)\n",
      "File \u001b[1;32m<frozen codecs>:322\u001b[0m, in \u001b[0;36mdecode\u001b[1;34m(self, input, final)\u001b[0m\n",
      "\u001b[1;31mUnicodeDecodeError\u001b[0m: 'utf-8' codec can't decode byte 0xa7 in position 0: invalid start byte"
     ]
    }
   ],
   "source": [
    "# Import necessary modules\n",
    "import os\n",
    "\n",
    "# Define the output file name\n",
    "output_file = \"combined.txt\"\n",
    "\n",
    "# Get user input for exclusion keywords\n",
    "exclusion_keywords = input(\n",
    "    \"Enter comma-separated keywords for files to exclude (e.g., combinator): \"\n",
    ").split(\",\")\n",
    "\n",
    "# Open the output file in write mode\n",
    "with open(output_file, \"w\") as out:\n",
    "    # Loop through the current directory and all subdirectories\n",
    "    for root, dirs, files in os.walk(\".\"):\n",
    "        # Loop through each file in the current directory\n",
    "        for file in files:\n",
    "            # Check if filename contains any exclusion keywords\n",
    "            skip_file = any(keyword in file for keyword in exclusion_keywords)\n",
    "\n",
    "            # Skip the file if it contains an exclusion keyword\n",
    "            if skip_file:\n",
    "                continue\n",
    "\n",
    "            # Get the file path relative to the current directory\n",
    "            file_path = os.path.join(root, file)\n",
    "\n",
    "            # Write the file location and extension to the output file\n",
    "            out.write(f\"{file_path}:\\n\")\n",
    "            out.write(\"```\\n\")\n",
    "\n",
    "            # Open the file in read mode\n",
    "            with open(file_path, \"r\") as f:\n",
    "                # Read the file content\n",
    "                content = f.read()\n",
    "\n",
    "                # Write the file content to the output file\n",
    "                out.write(content)\n",
    "\n",
    "            out.write(\"```\\n\")\n",
    "\n",
    "            # Write the separator line after the content\n",
    "            out.write(\"--------------------------\\n\")\n",
    "            out.write(\"\\n\")  # Add an additional blank line for better separation\n"
   ]
  }
 ],
 "metadata": {
  "kernelspec": {
   "display_name": "base",
   "language": "python",
   "name": "python3"
  },
  "language_info": {
   "codemirror_mode": {
    "name": "ipython",
    "version": 3
   },
   "file_extension": ".py",
   "mimetype": "text/x-python",
   "name": "python",
   "nbconvert_exporter": "python",
   "pygments_lexer": "ipython3",
   "version": "3.11.5"
  }
 },
 "nbformat": 4,
 "nbformat_minor": 2
}
